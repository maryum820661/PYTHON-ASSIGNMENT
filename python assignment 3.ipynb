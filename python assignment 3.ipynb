{
 "cells": [
  {
   "cell_type": "markdown",
   "metadata": {},
   "source": [
    "# PYTHON ASSIGNMENT 3"
   ]
  },
  {
   "cell_type": "markdown",
   "metadata": {},
   "source": [
    "### Qno:1\n",
    "##### Make a calculator using python addition,subtraction,multiplication and power"
   ]
  },
  {
   "cell_type": "code",
   "execution_count": 64,
   "metadata": {
    "scrolled": true
   },
   "outputs": [
    {
     "name": "stdout",
     "output_type": "stream",
     "text": [
      " Enter the code for the operation \n",
      " Enter 1 for addition \n",
      " Enter 2 for subtraction\n",
      " Enter 3 for multiplication\n",
      " Enter 4 for division\n",
      " Enter 5 for power1\n",
      "Enter the number of elements to be added3\n",
      "Enter the number 1 \t2\n",
      "Enter the number 2 \t4\n",
      "Enter the number 3 \t6\n",
      "The sum of  the elements is 12\n"
     ]
    }
   ],
   "source": [
    "sum=0\n",
    "lst=[]\n",
    "lst2=[]\n",
    "x=int(input(''' Enter the code for the operation \\n Enter 1 for addition \\n Enter 2 for subtraction\\n Enter 3 for multiplication\\n Enter 4 for division\\n Enter 5 for power'''))\n",
    "if x is 1:\n",
    "    n=int(input(\"Enter the number of elements to be added\"))\n",
    "    for a in range(n):\n",
    "       lst.append( int(input(f\"Enter the number {a+1} \\t\")))\n",
    "    for i in lst:\n",
    "      sum=sum+i   \n",
    "    print(\"The sum of  the elements is\",sum)\n",
    "elif x is 2:\n",
    "    n1=int(input(\"Enter  the number 1\"))\n",
    "    n2=int(input(\"Enter the number 2\"))\n",
    "    result=n1-n2\n",
    "    print(result)\n",
    "    \n",
    "elif x is 3:\n",
    "    sum=1\n",
    "    n=int(input(\"Enter the number of elements to be multiplied\"))\n",
    "    for a in range(n):\n",
    "       lst.append( int(input(f\"Enter the number {a+1} \\t\")))\n",
    "    for i in lst:\n",
    "      sum=sum*i   \n",
    "    print(\"The multiplication of  the elements results\",sum)\n",
    "    \n",
    "elif x is 4:\n",
    "    n1=int(input(\"Enter  the dividend\"))\n",
    "    n2=int(input(\"Enter the divisor\"))\n",
    "    result=n1/n2\n",
    "    print(result)\n",
    "    \n",
    "elif x is 5:\n",
    "    n1=int(input(\"Enter the number\"))\n",
    "    n2=int(input(\"Enter the power\"))\n",
    "    result=n1**n2\n",
    "    print(result)\n",
    "else:\n",
    "    print(\"you have not entered the correct code please try again!\")\n",
    "\n",
    "        \n",
    "    "
   ]
  },
  {
   "cell_type": "markdown",
   "metadata": {},
   "source": [
    "### QNO:2\n",
    "#### Write a program to check if their exist any numeric value in list using for loop.\n"
   ]
  },
  {
   "cell_type": "code",
   "execution_count": 32,
   "metadata": {},
   "outputs": [
    {
     "name": "stdout",
     "output_type": "stream",
     "text": [
      "Non Numeric\n",
      "Numeric\n",
      "Non Numeric\n",
      "Non Numeric\n",
      "Numeric\n",
      "Numeric\n"
     ]
    }
   ],
   "source": [
    "\n",
    "lst=[\"english\",1,\"ab\",\"pr\",22,78]\n",
    "for num in lst:\n",
    "  if isinstance(num,int):\n",
    "    print(\"Numeric\") #checks if numeric value exist\n",
    "  else:\n",
    "    print(\"Non Numeric\")#returns non-numeric if it is non numeric"
   ]
  },
  {
   "cell_type": "markdown",
   "metadata": {},
   "source": [
    "### Qno:3\n",
    "#### Write a python script to add a key to the dicctionary."
   ]
  },
  {
   "cell_type": "code",
   "execution_count": 24,
   "metadata": {},
   "outputs": [
    {
     "name": "stdout",
     "output_type": "stream",
     "text": [
      "{'firstname': 'Maryum', 'lastname': 'Sheikh', 'Position': 'Developer'}\n",
      "{'firstname': 'Maryum', 'lastname': 'Sheikh', 'Position': 'Developer', 'salary': 5000}\n"
     ]
    }
   ],
   "source": [
    "Employee={\n",
    "    \"firstname\":\"Maryum\",\n",
    "    \"lastname\": \"Sheikh\",\n",
    "    \"Position\":\"Developer\"    \n",
    "}\n",
    "print(Employee)#previous list\n",
    "Employee[\"salary\"]=5000\n",
    "print(Employee)#new list"
   ]
  },
  {
   "cell_type": "markdown",
   "metadata": {},
   "source": [
    "### Qno:4\n",
    "#### Write a python program to sum all the numeric items in a dictionary."
   ]
  },
  {
   "cell_type": "code",
   "execution_count": 37,
   "metadata": {},
   "outputs": [
    {
     "name": "stdout",
     "output_type": "stream",
     "text": [
      "523\n"
     ]
    }
   ],
   "source": [
    "\n",
    "sum=0\n",
    "Dict={\n",
    "    \"name\":\"maryum\",\n",
    "    \"Roll-no\":23,\n",
    "    \"fees\":500\n",
    "}\n",
    "for eachvalue in Dict.values():\n",
    "  if isinstance(eachvalue,int):\n",
    "      sum=sum+eachvalue\n",
    "print(sum)  "
   ]
  },
  {
   "cell_type": "markdown",
   "metadata": {},
   "source": [
    "### Qno:5\n",
    "#### Write a program to print all dupliate values in a list.\n"
   ]
  },
  {
   "cell_type": "code",
   "execution_count": 52,
   "metadata": {},
   "outputs": [
    {
     "name": "stdout",
     "output_type": "stream",
     "text": [
      "[1, 3, 'apple']\n"
     ]
    }
   ],
   "source": [
    "list=[1, 3, 3, \"apple\", 5, 6, 1, \"apple\"]\n",
    "x=set(list)\n",
    "dup=[]\n",
    "for c in x:\n",
    "    if(list.count(c)>1):\n",
    "        dup.append(c)\n",
    "print(dup)"
   ]
  },
  {
   "cell_type": "markdown",
   "metadata": {},
   "source": [
    "### Qno:6\n",
    "#### Write a python script to check if a key already exist in a dicctionary  "
   ]
  },
  {
   "cell_type": "code",
   "execution_count": 62,
   "metadata": {},
   "outputs": [
    {
     "name": "stdout",
     "output_type": "stream",
     "text": [
      "Enter the key9\n",
      "Key is not present in the dictionary\n"
     ]
    }
   ],
   "source": [
    "d = {1: 10, 2: 20, 3: 30, 4: 40, 5: 50, 6: 60}\n",
    "x=int(input(\"Enter the key\"))\n",
    "if x in d:\n",
    " print('Key is present in the dictionary')\n",
    "else:\n",
    " print('Key is not present in the dictionary')\n",
    "\n",
    "    "
   ]
  },
  {
   "cell_type": "code",
   "execution_count": null,
   "metadata": {},
   "outputs": [],
   "source": []
  }
 ],
 "metadata": {
  "kernelspec": {
   "display_name": "Python 3",
   "language": "python",
   "name": "python3"
  }
 },
 "nbformat": 4,
 "nbformat_minor": 2
}
