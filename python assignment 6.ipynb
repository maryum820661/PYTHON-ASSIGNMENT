{
 "cells": [
  {
   "cell_type": "markdown",
   "metadata": {},
   "source": [
    "# Qno:1\n",
    "Define Object oriented Programming Language?"
   ]
  },
  {
   "cell_type": "markdown",
   "metadata": {},
   "source": [
    "Object-oriented programming (OOP) is a programming language model in which programs are organized around data, or objects, rather than functions and logic. An object can be defined as a data field that has unique attributes and behavior. Examples of an object can range from physical entities, such as a human being that is described by properties like name and address, down to small computer programs, such as widgets. This opposes the historical approach to programming where emphasis was placed on how the logic was written rather than how to define the data within the logic.Object-oriented programming (OOP) is a programming language model in which programs are organized around data, or objects, rather than functions and logic. An object can be defined as a data field that has unique attributes and behavior. Examples of an object can range from physical entities, such as a human being that is described by properties like name and address, down to small computer programs, such as widgets. This opposes the historical approach to programming where emphasis was placed on how the logic was written rather than how to define the data within the logic."
   ]
  },
  {
   "cell_type": "markdown",
   "metadata": {},
   "source": [
    "# Qno:2\n",
    "List down the Benefits of OOP?"
   ]
  },
  {
   "cell_type": "markdown",
   "metadata": {},
   "source": [
    "### Advantages of OOP: \n",
    "\n",
    "1.It provides a clear modular structure for programs which makes it good for defining abstract datatypes in which implementation details are hidden.\n",
    "\n",
    "2.Objects can also be reused within an across applications. The reuse of software also lowers the cost of development. More effort is put into the object-oriented analysis and design, which lowers the overall cost of development.\n",
    "\n",
    "3.It makes software easier to maintain. Since the design is modular, part of the system can be updated in case of issues without a need to make large-scale changes\n",
    "\n",
    "4.Reuse also enables faster development. Object-oriented programming languages come with rich libraries of objects, and code developed during projects is also reusable in future projects.\n",
    "\n",
    "5.It provides a good framework for code libraries where the supplied software components can be easily adapted and modified by the programmer. This is particularly useful for developing graphical user interfaces.\n",
    "\n",
    "6.Better Productivity as OOP techniques enforce rules on a programmer that, in the long run, help her get more work done; finished programs work better, have more features and are easier to read and maintain. OOP programmers take new and existing software objects and \"stitch\" them together to make new programs. Because object libraries contain many useful functions, software developers don't have to reinvent the wheel as often; more of their time goes into making the new program."
   ]
  },
  {
   "cell_type": "markdown",
   "metadata": {},
   "source": [
    "## Qno:3\n",
    "Differentiate between function and method?"
   ]
  },
  {
   "cell_type": "markdown",
   "metadata": {},
   "source": [
    "### Method\n",
    "\n",
    "1.Method is usually called by its name, but it is associated to an object (dependent).\n",
    "\n",
    "2.A method is implicitly passed the object on which it is invoked.\n",
    "\n",
    "3.It may or may not return any data.\n",
    "\n",
    "4.A method can operate on the data (instance variables) that is contained by the corresponding class.\n",
    "\n",
    "### Functions\n",
    "\n",
    "1.Function is block of code that is also called by its name. (independent)\n",
    "\n",
    "2.The function can have different parameters or may not have any at all. If any data (parameters) are passed, they are passed explicitly.\n",
    "\n",
    "3.It may or may not return any data.\n",
    "\n",
    "4.Function does not deal with Class and its instance concept."
   ]
  },
  {
   "cell_type": "markdown",
   "metadata": {},
   "source": [
    "# Qno:4\n",
    "Define the following terms:\n",
    "\n",
    "1.class\n",
    "\n",
    "2.Object\n",
    "\n",
    "3.Attribute\n",
    "\n",
    "4.Behaviour\n",
    "\n"
   ]
  },
  {
   "cell_type": "markdown",
   "metadata": {},
   "source": [
    "### Attribute:\n",
    "Attributes are the individual things that differentiate one object from another and determine the appearance, state, or other qualities of that object. Let's create a theoretical class called Motorcycle. A motorcycle class might include the following attributes and have these typical values:\n",
    "\n",
    "Color: red, green, silver, brown\n",
    "Style: cruiser, sport bike, standard\n",
    "Make: Honda, BMW, Bultaco\n",
    "Attributes of an object can also include information about its state; for example, you could have features for engine condition (off or on) or current gear selected.\n",
    "\n",
    "Attributes are defined in classes by variables. Those variables' types and names are defined in the class, and each object can have its own values for those variables. Because each instance of a class can have different values for its variables, these variables are often called instance variables.\n",
    "\n",
    "### Class:\n",
    "class is a template for multiple objects with similar features. Classes embody all the features of a particular set of objects. For example, you might have a Tree class that describes the features of all trees (has leaves and roots, grows, creates chlorophyll). The Tree class serves as an abstract model for the concept of a tree-to reach out and grab, or interact with, or cut down a tree you have to have a concrete instance of that tree. Of course, once you have a tree class, you can create lots of different instances of that tree, and each different tree instance can have different features (short, tall, bushy, drops leaves in autumn), while still behaving like and being immediately recognizable as a tree\n",
    "\n",
    "### Object:\n",
    "Instance is the specific concrete representation of a class. Instances and objects are the same thing.An object is basically the instance of a class.Like car class has the object called corolla,city etc\n",
    "\n",
    "### Behaviour:\n",
    "A class's behavior determines how an instance of that class operates; for example, how it will \"react\" if asked to do something by another class or object or if its internal state changes. Behavior is the only way objects can do anything to themselves or have anything done to them. For example, to go back to the theoretical Motorcycle class, here are some behaviors that the Motorcycle class might have:\n",
    "\n",
    "Start the engine\n",
    "Stop the engine\n",
    "Speed up\n",
    "Change gear\n",
    "Stall\n",
    "To define an object's behavior, you create methods, a set of Java statements that accomplish some task. Methods look and behave just like functions in other languages but are defined and accessible solely inside a class. Java does not have functions defined outside classes (as C++ does).\n",
    "\n",
    "\n"
   ]
  },
  {
   "cell_type": "markdown",
   "metadata": {},
   "source": [
    "## Qno:5\n",
    "Write a code in python in which create a class named it car which have five attributes such like (model,color and name etc)and 3 methods.and create five object instances from that class."
   ]
  },
  {
   "cell_type": "code",
   "execution_count": 11,
   "metadata": {},
   "outputs": [
    {
     "name": "stdout",
     "output_type": "stream",
     "text": [
      "This is corolla\n",
      "It has the colour black\n",
      "It has the model toyota\n",
      "It has the price 2500000\n",
      "year is 2010\n"
     ]
    },
    {
     "data": {
      "text/plain": [
       "1305"
      ]
     },
     "execution_count": 11,
     "metadata": {},
     "output_type": "execute_result"
    }
   ],
   "source": [
    "class Car:\n",
    "\n",
    "    def __init__(self, name,color, model, price, year,speed):\n",
    "        self.name=name\n",
    "        self.color=color\n",
    "        self.model=model\n",
    "        self.price=price\n",
    "        self.year=year\n",
    "        self.speed=speed\n",
    "    def display(self):\n",
    "        print(f\"This is {self.name}\\nIt has the colour {self.color}\\nIt has the model {self.model}\\nIt has the price {self.price}\\nyear is {self.year}\")\n",
    "\n",
    "    def accelerate(self):\n",
    "        self.speed +=5\n",
    "        \n",
    "    def brake(self):\n",
    "        self.speed -=5\n",
    "\n",
    "    def get_speed(self):\n",
    "        return self.speed\n",
    "car1=Car(\"corolla\",\"black\",\"toyota\",2500000,2010,1300)\n",
    "car2=Car(\"Cultus\",\"grey\",\"sedan\",100000,2011,700)\n",
    "car3=Car(\"civic\",\"Red\",\"Honda\",3500000,2010,1500)\n",
    "car4=Car(\"Mercedees\",\"black\",\"toyota\",1500000,2018,1600)\n",
    "car5=Car(\"Alto\",\"white\",\"toyota\",60000,2017,600)\n",
    "car1.display()\n",
    "car1.accelerate()\n",
    "car1.get_speed()\n",
    "\n",
    "        "
   ]
  }
 ],
 "metadata": {
  "kernelspec": {
   "display_name": "Python 3",
   "language": "python",
   "name": "python3"
  },
  "language_info": {
   "codemirror_mode": {
    "name": "ipython",
    "version": 3
   },
   "file_extension": ".py",
   "mimetype": "text/x-python",
   "name": "python",
   "nbconvert_exporter": "python",
   "pygments_lexer": "ipython3",
   "version": "3.7.4"
  }
 },
 "nbformat": 4,
 "nbformat_minor": 2
}
