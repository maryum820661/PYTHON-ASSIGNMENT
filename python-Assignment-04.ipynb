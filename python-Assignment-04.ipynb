{
 "cells": [
  {
   "cell_type": "markdown",
   "metadata": {},
   "source": [
    "# python Assignment # 04"
   ]
  },
  {
   "cell_type": "markdown",
   "metadata": {},
   "source": [
    "# Qno:1"
   ]
  },
  {
   "cell_type": "code",
   "execution_count": 9,
   "metadata": {
    "scrolled": true
   },
   "outputs": [
    {
     "name": "stdout",
     "output_type": "stream",
     "text": [
      "firstName Ali\n",
      "lastName Danish\n",
      "age 20\n",
      "city Karachi\n",
      "After adding a new Key\n",
      "firstName Ali\n",
      "lastName Danish\n",
      "age 20\n",
      "city Karachi\n",
      "Qualification Intermediate\n",
      "After updating the existing key\n",
      "firstName Ali\n",
      "lastName Danish\n",
      "age 20\n",
      "city Karachi\n",
      "Qualification High Academics\n",
      "After deleting the Qualification key\n",
      "firstName Ali\n",
      "lastName Danish\n",
      "age 20\n",
      "city Karachi\n"
     ]
    }
   ],
   "source": [
    "dictionary1={\"firstName\":\"Ali\",\"lastName\":\"Danish\",\"age\":20,\"city\":\"Karachi\"}\n",
    "for each_key,each_value in dictionary1.items():\n",
    "    print(each_key ,each_value)\n",
    "print(\"After adding a new Key\")\n",
    "dictionary1[\"Qualification\"]=\"Intermediate\"\n",
    "for each_key,each_value in dictionary1.items():\n",
    "    print(each_key ,each_value)\n",
    "print(\"After updating the existing key\")\n",
    "dictionary1[\"Qualification\"]=\"High Academics\"\n",
    "for each_key,each_value in dictionary1.items():\n",
    "    print(each_key ,each_value)\n",
    "del dictionary1[\"Qualification\"]\n",
    "print(\"After deleting the Qualification key\")\n",
    "for each_key,each_value in dictionary1.items():\n",
    "    print(each_key ,each_value)\n",
    "\n",
    "\n"
   ]
  },
  {
   "cell_type": "markdown",
   "metadata": {},
   "source": [
    "# Qno:2"
   ]
  },
  {
   "cell_type": "code",
   "execution_count": 15,
   "metadata": {},
   "outputs": [
    {
     "name": "stdout",
     "output_type": "stream",
     "text": [
      "\n",
      "Karachi is in Pakistan\n",
      "\n",
      "Karachi has a population of 2000000\n",
      "\n",
      "Karachi has a fact called City Of Lights\n",
      "\n",
      "Tokyo is in Japan\n",
      "\n",
      "Tokyo has a population of 2000000\n",
      "\n",
      "Tokyo has a fact called City In Which Earthquakes Are Common\n",
      "\n",
      "Dehli is in India\n",
      "\n",
      "Dehli has a population of 5000000\n",
      "\n",
      "Dehli has a fact called Capital Of Bharat\n"
     ]
    }
   ],
   "source": [
    "cities={\"Karachi\":{\"country\":\"Pakistan\",\"population\":2000000,\"fact\":\"City of Lights\"},\"Tokyo\":{\"country\":\"Japan\",\"population\":2000000,\"fact\":\"City in which EarthQuakes are common\"},\"Dehli\":{\"country\":\"India\",\"population\":5000000,\"fact\":\"Capital of Bharat\"}}\n",
    "for each_key,each_value in cities.items():\n",
    "    country=each_value[\"country\"].title()\n",
    "    population=each_value[\"population\"]\n",
    "    fact=each_value[\"fact\"].title()\n",
    "    print(\"\\n\"+each_key + \" is in \"+country)\n",
    "    print(\"\\n\"+each_key + \" has a population of \"+ str(population))\n",
    "    print(\"\\n\"+each_key + \" has a fact called \"+fact)   "
   ]
  },
  {
   "cell_type": "markdown",
   "metadata": {},
   "source": [
    "# Qno:3"
   ]
  },
  {
   "cell_type": "code",
   "execution_count": 3,
   "metadata": {},
   "outputs": [
    {
     "name": "stdout",
     "output_type": "stream",
     "text": [
      "Enter your age 2\n",
      "The ticket is free\n"
     ]
    }
   ],
   "source": [
    "\n",
    "while True:\n",
    "    userinput=int(input(\"Enter your age \"))\n",
    "    if(userinput<=3):\n",
    "      print(\"The ticket is free\")\n",
    "      break\n",
    "    elif(userinput>3 and userinput<=12):\n",
    "      print(\"The ticket is of $10\")\n",
    "      break \n",
    "    elif(userinput>12):\n",
    "      print(\"The ticket is of $15\")\n",
    "      break"
   ]
  },
  {
   "cell_type": "markdown",
   "metadata": {},
   "source": [
    "# Qno:4"
   ]
  },
  {
   "cell_type": "code",
   "execution_count": 4,
   "metadata": {},
   "outputs": [
    {
     "name": "stdout",
     "output_type": "stream",
     "text": [
      "One of my favourite book is Alice in Wonderland\n"
     ]
    }
   ],
   "source": [
    "def favourite_book(title):\n",
    "    print(f\"One of my favourite book is\",title)\n",
    "favourite_book(\"Alice in Wonderland\")"
   ]
  },
  {
   "cell_type": "markdown",
   "metadata": {},
   "source": [
    "# Qno:5"
   ]
  },
  {
   "cell_type": "code",
   "execution_count": 6,
   "metadata": {},
   "outputs": [
    {
     "name": "stdout",
     "output_type": "stream",
     "text": [
      "HINT\n",
      "try a number between 15 and 20\n",
      "enter your guess3\n",
      "try a number greater than :3\n",
      "enter your guess16\n",
      "your guess is right\n"
     ]
    }
   ],
   "source": [
    "import random\n",
    "hidden=random.randint(1,30)\n",
    "print(\"HINT\")\n",
    "def hint(hidden):\n",
    "  if(hidden>=1 and hidden<5):\n",
    "    print(\"try a number between 1 and 5\")\n",
    "  elif(hidden>=5 and hidden<10):      \n",
    "    print(\"try a number between 5 and 10\")\n",
    "  elif(hidden>=10 and hidden<15):      \n",
    "    print(\"try a number between 10 and 15\")\n",
    "  elif(hidden>=15 and hidden<20):      \n",
    "    print(\"try a number between 15 and 20\")     \n",
    "  elif(hidden>=20 and hidden<25):      \n",
    "    print(\"try a number between 20 and 25\")\n",
    "  elif(hidden>=25 and hidden<30):      \n",
    "    print(\"try a number between 25 and 30\")\n",
    "def userhint(user,hidden):\n",
    "      if hidden>user:\n",
    "         print(\"try a number greater than :{}\".format(user))\n",
    "hint(hidden)\n",
    "for i in range(0,3):\n",
    "    user=int(input(\"enter your guess\"))\n",
    "    userhint(user,hidden)\n",
    "    if user==hidden:\n",
    "      print(\"your guess is right\")\n",
    "      break"
   ]
  },
  {
   "cell_type": "code",
   "execution_count": null,
   "metadata": {},
   "outputs": [],
   "source": []
  }
 ],
 "metadata": {
  "kernelspec": {
   "display_name": "Python 3",
   "language": "python",
   "name": "python3"
  },
  "language_info": {
   "codemirror_mode": {
    "name": "ipython",
    "version": 3
   },
   "file_extension": ".py",
   "mimetype": "text/x-python",
   "name": "python",
   "nbconvert_exporter": "python",
   "pygments_lexer": "ipython3",
   "version": "3.7.4"
  }
 },
 "nbformat": 4,
 "nbformat_minor": 2
}
