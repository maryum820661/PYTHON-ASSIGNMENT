{
 "cells": [
  {
   "cell_type": "markdown",
   "metadata": {},
   "source": [
    "# python Assignment 2"
   ]
  },
  {
   "cell_type": "markdown",
   "metadata": {},
   "source": [
    "# Qno:1"
   ]
  },
  {
   "cell_type": "markdown",
   "metadata": {},
   "source": [
    "Write a program which takes  five  inputs from user for different subjects marks,total it and generate marksheet using grades."
   ]
  },
  {
   "cell_type": "code",
   "execution_count": 10,
   "metadata": {},
   "outputs": [
    {
     "name": "stdout",
     "output_type": "stream",
     "text": [
      "Enter the marks for English \n",
      "56\n",
      "Enter the marks for Maths \n",
      "67\n",
      "Enter the marks for Science \n",
      "89\n",
      "Enter the marks for Urdu \n",
      "45\n",
      "Enter the marks for  Islamiat \n",
      "70\n",
      "You got B\n"
     ]
    }
   ],
   "source": [
    "English=int(input(\"Enter the marks for English \\n\"))\n",
    "Maths=int(input(\"Enter the marks for Maths \\n\"))\n",
    "Science=int(input(\"Enter the marks for Science \\n\"))\n",
    "Urdu=int(input(\"Enter the marks for Urdu \\n\"))\n",
    "Isl=int(input(\"Enter the marks for  Islamiat \\n\"))\n",
    "marksgained=English+Maths+Science+Urdu+Isl\n",
    "totalmarks=500\n",
    "percent=((marksgained/totalmarks)*100);\n",
    "if percent>=90:\n",
    " print(\"You got A+\")\n",
    "elif percent<90 and percent>=80:\n",
    " print(\"You got A\")\n",
    "elif percent<80 and percent>=70:\n",
    " print(\"You got B+\")\n",
    "elif percent<70 and percent>=60:\n",
    " print(\"You got B\")\n",
    "elif percent<60 and percent>=50:\n",
    " print(\"You got C\")\n",
    "else:\n",
    " print(\"you are failed\")\n"
   ]
  },
  {
   "cell_type": "markdown",
   "metadata": {},
   "source": [
    "# Qno:2"
   ]
  },
  {
   "cell_type": "markdown",
   "metadata": {},
   "source": [
    "Write  a program which takes input from user and identify that the given number is even or odd?"
   ]
  },
  {
   "cell_type": "code",
   "execution_count": 11,
   "metadata": {},
   "outputs": [
    {
     "name": "stdout",
     "output_type": "stream",
     "text": [
      "Enter the number to check wheather it is Even or Odd \n",
      "67\n",
      "The number is odd\n"
     ]
    }
   ],
   "source": [
    "num=int(input(\"Enter the number to check wheather it is Even or Odd \\n\"))\n",
    "if num%2==0:\n",
    " print(\"The number is even\")\n",
    "else:\n",
    " print(\"The number is odd\")"
   ]
  },
  {
   "cell_type": "markdown",
   "metadata": {},
   "source": [
    "# Qno:3"
   ]
  },
  {
   "cell_type": "markdown",
   "metadata": {},
   "source": [
    "Write a python program to print the length of the list?"
   ]
  },
  {
   "cell_type": "code",
   "execution_count": 12,
   "metadata": {},
   "outputs": [
    {
     "data": {
      "text/plain": [
       "6"
      ]
     },
     "execution_count": 12,
     "metadata": {},
     "output_type": "execute_result"
    }
   ],
   "source": [
    "a=[1,2,3,5,6,8]\n",
    "len(a)"
   ]
  },
  {
   "cell_type": "markdown",
   "metadata": {},
   "source": [
    "# Qno:4"
   ]
  },
  {
   "cell_type": "markdown",
   "metadata": {},
   "source": [
    "Write  a program to sum all the numeric items in a list?"
   ]
  },
  {
   "cell_type": "code",
   "execution_count": 27,
   "metadata": {},
   "outputs": [
    {
     "name": "stdout",
     "output_type": "stream",
     "text": [
      "The sum of  all the numeric values in list is 164\n"
     ]
    }
   ],
   "source": [
    "a=[11,21,32,45,55] \n",
    "sum=0\n",
    "for i in a:\n",
    "   sum=sum+i\n",
    "print(\"The sum of  all the numeric values in list is\",sum)"
   ]
  },
  {
   "cell_type": "markdown",
   "metadata": {},
   "source": [
    "# Qno:5"
   ]
  },
  {
   "cell_type": "markdown",
   "metadata": {},
   "source": [
    "Write a program to print the largest element in the list."
   ]
  },
  {
   "cell_type": "code",
   "execution_count": 35,
   "metadata": {},
   "outputs": [
    {
     "name": "stdout",
     "output_type": "stream",
     "text": [
      "The largest number in the list is 95\n"
     ]
    }
   ],
   "source": [
    "a=[1,24,3,95,59]\n",
    "largest=a[0];\n",
    "i=1\n",
    "for i in a:\n",
    "  if largest<i:\n",
    "    largest=i\n",
    "print(\"The largest number in the list is\",largest)"
   ]
  },
  {
   "cell_type": "markdown",
   "metadata": {},
   "source": [
    "# Qno:6"
   ]
  },
  {
   "cell_type": "markdown",
   "metadata": {},
   "source": [
    "Take a list,say for example this one:\n",
    "a=[1,1,2,3,5,8,13,21,34,55,89]\n",
    "and write a program that prints out all the elements of the list that are less than 5."
   ]
  },
  {
   "cell_type": "code",
   "execution_count": 36,
   "metadata": {},
   "outputs": [
    {
     "name": "stdout",
     "output_type": "stream",
     "text": [
      "1\n",
      "1\n",
      "2\n",
      "3\n"
     ]
    }
   ],
   "source": [
    "a=[1,1,2,3,5,8,13,21,34,55,89]\n",
    "for i in a:\n",
    "  if i<5:\n",
    "    print(i)"
   ]
  },
  {
   "cell_type": "code",
   "execution_count": null,
   "metadata": {},
   "outputs": [],
   "source": []
  }
 ],
 "metadata": {
  "kernelspec": {
   "display_name": "Python 3",
   "language": "python",
   "name": "python3"
  },
  "language_info": {
   "codemirror_mode": {
    "name": "ipython",
    "version": 3
   },
   "file_extension": ".py",
   "mimetype": "text/x-python",
   "name": "python",
   "nbconvert_exporter": "python",
   "pygments_lexer": "ipython3",
   "version": "3.7.4"
  }
 },
 "nbformat": 4,
 "nbformat_minor": 2
}
