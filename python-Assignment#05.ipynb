{
 "cells": [
  {
   "cell_type": "markdown",
   "metadata": {},
   "source": [
    "# PYTHON ASSIGNMENT #05"
   ]
  },
  {
   "cell_type": "markdown",
   "metadata": {},
   "source": [
    "# QNO:1"
   ]
  },
  {
   "cell_type": "code",
   "execution_count": 15,
   "metadata": {},
   "outputs": [
    {
     "name": "stdout",
     "output_type": "stream",
     "text": [
      "24\n"
     ]
    }
   ],
   "source": [
    "\n",
    "def factorial(num):\n",
    "    fact=1\n",
    "    for a in range(1,num+1):\n",
    "        fact=fact*a\n",
    "    print(fact)\n",
    "factorial(4)\n",
    "        "
   ]
  },
  {
   "cell_type": "markdown",
   "metadata": {},
   "source": [
    "# QNO:2"
   ]
  },
  {
   "cell_type": "code",
   "execution_count": 20,
   "metadata": {},
   "outputs": [
    {
     "name": "stdout",
     "output_type": "stream",
     "text": [
      "Enter the string as an input\n",
      "YOU are good To go\n",
      "The number of upper case letters in the string is 4 and the number of lower case letters in the string is10\n"
     ]
    }
   ],
   "source": [
    "def stringfunc():\n",
    "    string=input(\"Enter the string as an input\\n\")\n",
    "    count1=0\n",
    "    count2=0\n",
    "    for a in string:\n",
    "        if(a.isupper()):\n",
    "            count1=count1+1\n",
    "        if(a.islower()):\n",
    "            count2=count2+1\n",
    "    print(f\"The number of upper case letters in the string is {count1} and the number of lower case letters in the string is{count2}\")\n",
    "stringfunc()    "
   ]
  },
  {
   "cell_type": "markdown",
   "metadata": {},
   "source": [
    "# QNO:3"
   ]
  },
  {
   "cell_type": "code",
   "execution_count": 22,
   "metadata": {},
   "outputs": [
    {
     "name": "stdout",
     "output_type": "stream",
     "text": [
      "\n",
      " 2\n",
      "\n",
      " 4\n",
      "\n",
      " 6\n"
     ]
    }
   ],
   "source": [
    "list1=[]\n",
    "def evennumber(list1):\n",
    "    for a in list1:\n",
    "        if(a%2==0):\n",
    "            print(\"\\n\",a)\n",
    "            \n",
    "evennumber([1,2,3,4,5,6])"
   ]
  },
  {
   "cell_type": "markdown",
   "metadata": {},
   "source": [
    "# QNO:4"
   ]
  },
  {
   "cell_type": "code",
   "execution_count": 29,
   "metadata": {},
   "outputs": [
    {
     "name": "stdout",
     "output_type": "stream",
     "text": [
      "Enter the string\n",
      "malayalam\n",
      "This is a palindrome\n"
     ]
    }
   ],
   "source": [
    "def reverse(string): \n",
    "    return string[::-1]\n",
    "def palindrome():\n",
    "   string=input(\"Enter the string\\n\")\n",
    "   reverse_string=reverse(string)\n",
    "   if(string==reverse_string):\n",
    "    print(\"This is a palindrome\")\n",
    "   else:\n",
    "    print(\"This is not a palindrome\")\n",
    "palindrome()"
   ]
  },
  {
   "cell_type": "markdown",
   "metadata": {},
   "source": [
    "# QNO:5"
   ]
  },
  {
   "cell_type": "code",
   "execution_count": 9,
   "metadata": {},
   "outputs": [
    {
     "name": "stdout",
     "output_type": "stream",
     "text": [
      "This is a prime number\n"
     ]
    }
   ],
   "source": [
    "def primefunc(num):\n",
    "  if num>1:\n",
    "    for a in range(2,num):\n",
    "        if(num%a==0):\n",
    "            print(\"This is  not a prime number\")\n",
    "            break\n",
    "           \n",
    "            \n",
    "    else:\n",
    "        print(\"This is a prime number\")\n",
    "  else:\n",
    "    print(\"This is not a prime number\")\n",
    "        \n",
    "primefunc(7)        \n",
    "     "
   ]
  },
  {
   "cell_type": "markdown",
   "metadata": {},
   "source": [
    "# QNO:6"
   ]
  },
  {
   "cell_type": "code",
   "execution_count": 10,
   "metadata": {},
   "outputs": [
    {
     "name": "stdout",
     "output_type": "stream",
     "text": [
      "Flour\n",
      "Sugar\n",
      "Oil\n",
      "Fruits\n",
      "Vegetables\n"
     ]
    }
   ],
   "source": [
    "def shoppingitems(*items):\n",
    "    for item in items:\n",
    "        print(item)\n",
    "shoppingitems(\"Flour\",\"Sugar\",\"Oil\",\"Fruits\",\"Vegetables\")"
   ]
  }
 ],
 "metadata": {
  "kernelspec": {
   "display_name": "Python 3",
   "language": "python",
   "name": "python3"
  },
  "language_info": {
   "codemirror_mode": {
    "name": "ipython",
    "version": 3
   },
   "file_extension": ".py",
   "mimetype": "text/x-python",
   "name": "python",
   "nbconvert_exporter": "python",
   "pygments_lexer": "ipython3",
   "version": "3.7.4"
  }
 },
 "nbformat": 4,
 "nbformat_minor": 2
}
